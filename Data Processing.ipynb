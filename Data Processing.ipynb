{
  "cells": [
    {
      "cell_type": "markdown",
      "metadata": {
        "id": "-eFMd_0lTLFY"
      },
      "source": [
        "### **Annotation by RGB**"
      ]
    },
    {
      "cell_type": "code",
      "execution_count": null,
      "metadata": {
        "colab": {
          "base_uri": "https://localhost:8080/"
        },
        "collapsed": true,
        "id": "Orr53GGtMgBR",
        "outputId": "fd5e29a8-38ca-4c96-e816-a401faf54d6b"
      },
      "outputs": [],
      "source": [
        "import cv2\n",
        "import numpy as np\n",
        "import os\n",
        "\n",
        "def process_image(image_path):\n",
        "    # Load the image\n",
        "    image = cv2.imread(image_path)\n",
        "    if image is None:\n",
        "        print(f\"Failed to load image {image_path}\")\n",
        "        return None\n",
        "\n",
        "    # Convert to HSV space\n",
        "    image_hsv = cv2.cvtColor(image, cv2.COLOR_BGR2HSV)\n",
        "\n",
        "    # Setting HSV range\n",
        "    hue_center = 120\n",
        "    saturation_center = 85\n",
        "    value_center = 195\n",
        "\n",
        "    # Colour range\n",
        "    hue_range = 10\n",
        "    saturation_range = 40\n",
        "    value_range = 60\n",
        "\n",
        "    lower_purple = np.array([hue_center - hue_range, saturation_center - saturation_range, value_center - value_range])\n",
        "    upper_purple = np.array([hue_center + hue_range, saturation_center + saturation_range, value_center + value_range])\n",
        "\n",
        "    # Creat Mask\n",
        "    mask = cv2.inRange(image_hsv, lower_purple, upper_purple)\n",
        "\n",
        "    # Extract Purple area\n",
        "    result = cv2.bitwise_and(image, image, mask=mask)\n",
        "    return result\n",
        "\n",
        "def batch_process(input_folder, output_folder):\n",
        "    # Output\n",
        "    if not os.path.exists(output_folder):\n",
        "        os.makedirs(output_folder)\n",
        "\n",
        "    for filename in os.listdir(input_folder):\n",
        "        if filename.lower().endswith((\".png\", \".jpg\", \".jpeg\")):\n",
        "            image_path = os.path.join(input_folder, filename)\n",
        "            result = process_image(image_path)\n",
        "            if result is not None:\n",
        "                output_path = os.path.join(output_folder, filename)\n",
        "                cv2.imwrite(output_path, result)\n",
        "                print(f\"Processed and saved: {output_path}\")\n",
        "            else:\n",
        "                print(f\"Processing failed for: {image_path}\")\n",
        "\n",
        "# apply Phase map here for extraction\n",
        "input_folder = '/Mineral/Phase crop'\n",
        "output_folder = '/Mineral/cpx'\n",
        "\n",
        "batch_process(input_folder, output_folder)"
      ]
    },
    {
      "cell_type": "markdown",
      "metadata": {
        "id": "VPvkIjVdWBzC"
      },
      "source": [
        "### **Generate the mask and apply for target maps**"
      ]
    },
    {
      "cell_type": "code",
      "execution_count": null,
      "metadata": {
        "colab": {
          "base_uri": "https://localhost:8080/"
        },
        "collapsed": true,
        "id": "D0e19fwAXInk",
        "outputId": "6d624ae1-4681-4bbd-9bca-ce49168ca9ac"
      },
      "outputs": [],
      "source": [
        "import cv2\n",
        "import numpy as np\n",
        "import os\n",
        "\n",
        "def process_image(bse_path, phase_path, output_path):\n",
        "    phase_image = cv2.imread(phase_path)\n",
        "    bse_image = cv2.imread(bse_path)\n",
        "\n",
        "    # generate the mask\n",
        "    gray_mask = cv2.cvtColor(phase_image, cv2.COLOR_BGR2GRAY)\n",
        "    _, binary_mask = cv2.threshold(gray_mask, 1, 255, cv2.THRESH_BINARY)\n",
        "\n",
        "    # Extract CPX from BSE map\n",
        "    extracted_regions = cv2.bitwise_and(bse_image, bse_image, mask=binary_mask)\n",
        "\n",
        "    cv2.imwrite(output_path, extracted_regions)\n",
        "    print(f\"process and save: {output_path}\")\n",
        "\n",
        "def batch_process(bse_folder, phase_folder, output_folder):\n",
        "    if not os.path.exists(output_folder):\n",
        "        os.makedirs(output_folder)\n",
        "\n",
        "    for filename in os.listdir(bse_folder):\n",
        "        if filename.lower().endswith(\".png\"):\n",
        "            bse_path = os.path.join(bse_folder, filename)\n",
        "\n",
        "            modified_filename = filename.replace(\"BSE\", \"_Panorama_Phases+BSE_mask\") #replace this when processing different image files\n",
        "            phase_path = os.path.join(phase_folder, modified_filename)\n",
        "\n",
        "\n",
        "            output_path = os.path.join(output_folder, filename)\n",
        "\n",
        "            print(f\"Processing BSE images: {bse_path}\")\n",
        "            print(f\"Processing Phase map: {phase_path}\")\n",
        "\n",
        "            if not os.path.exists(phase_path):\n",
        "                print(f\"cannot load image: {phase_path}\")\n",
        "                continue\n",
        "\n",
        "            process_image(bse_path, phase_path, output_path)\n",
        "\n",
        "bse_folder = '/Mineral/BSE'\n",
        "phase_folder = '/Mineral/MASK'\n",
        "output_folder = '/Mineral/BSE-A'\n",
        "batch_process(bse_folder, phase_folder, output_folder)\n"
      ]
    },
    {
      "cell_type": "markdown",
      "metadata": {
        "id": "mEUgMmqyT1ZW"
      },
      "source": [
        "### **Canny algorithm segmentation files**"
      ]
    },
    {
      "cell_type": "code",
      "execution_count": null,
      "metadata": {
        "colab": {
          "base_uri": "https://localhost:8080/"
        },
        "id": "afyb_cPEntuG",
        "outputId": "79d76105-d841-48f1-faf9-8600684ab04f"
      },
      "outputs": [
        {
          "name": "stdout",
          "output_type": "stream",
          "text": [
            "Segmentation completed and images are saved. Segmentation details are recorded in the Excel file.\n"
          ]
        }
      ],
      "source": [
        "import cv2\n",
        "import numpy as np\n",
        "import glob\n",
        "import os\n",
        "import pandas as pd\n",
        "\n",
        "\n",
        "root_dir = '/Mineral/BSE'\n",
        "save_dir = '/Mineral/BSE-seg'\n",
        "\n",
        "if not os.path.exists(save_dir):\n",
        "    os.makedirs(save_dir)\n",
        "\n",
        "# recoed the segmentation\n",
        "segment_data = []\n",
        "\n",
        "for filename in glob.iglob(root_dir + '**/*.png', recursive=True):\n",
        "    img = cv2.imread(filename, cv2.IMREAD_COLOR)\n",
        "    if img is None:\n",
        "        continue\n",
        "    gray = cv2.cvtColor(img, cv2.COLOR_BGR2GRAY)\n",
        "    edges = cv2.Canny(gray, 20, 255, 1)  # Canny edge detection\n",
        "\n",
        "\n",
        "    kernel = np.ones((3, 3), np.uint8)\n",
        "    dilated = cv2.dilate(edges, kernel, iterations=1)\n",
        "\n",
        "    contours, _ = cv2.findContours(dilated, cv2.RETR_EXTERNAL, cv2.CHAIN_APPROX_SIMPLE)\n",
        "\n",
        "    #match the filename\n",
        "    base_filename = os.path.basename(filename)\n",
        "    image_subdir = os.path.join(save_dir, os.path.splitext(base_filename)[0])\n",
        "    if not os.path.exists(image_subdir):\n",
        "        os.makedirs(image_subdir)\n",
        "\n",
        "\n",
        "    for i, contour in enumerate(contours):\n",
        "        x, y, w, h = cv2.boundingRect(contour)\n",
        "        if w > 50 and h > 50:  # size of capturing\n",
        "            ROI = img[y:y+h, x:x+w]\n",
        "            output_filename = f\"{base_filename}_segment_{i}.png\"  # creat filenames\n",
        "            output_path = os.path.join(image_subdir, output_filename)\n",
        "            cv2.imwrite(output_path, ROI)\n",
        "\n",
        "            segment_data.append({\n",
        "                'Filename': output_filename,\n",
        "                'Segment Index': i,\n",
        "                'x': x,\n",
        "                'y': y,\n",
        "                'width': w,\n",
        "                'height': h\n",
        "            })\n",
        "\n",
        "\n",
        "segmentation_info = pd.DataFrame(segment_data)\n",
        "\n",
        "excel_filename = os.path.join('/Mineral/Test set', 'TEST_segmentation.xlsx')\n",
        "segmentation_info.to_excel(excel_filename, index=False)\n",
        "\n",
        "print(\"Segmentation completed and images are saved. Segmentation details are recorded in the Excel file.\")\n"
      ]
    },
    {
      "cell_type": "markdown",
      "metadata": {
        "id": "tYvk2en1YbpP"
      },
      "source": [
        "### **Load the segmentation record for further segmentation on other maps**"
      ]
    },
    {
      "cell_type": "code",
      "execution_count": null,
      "metadata": {
        "colab": {
          "base_uri": "https://localhost:8080/",
          "height": 206
        },
        "collapsed": true,
        "id": "HZp8rNtkBk6W",
        "outputId": "a75104a1-020a-4264-9205-298b47eb3d70"
      },
      "outputs": [
        {
          "data": {
            "text/html": [
              "<div>\n",
              "<style scoped>\n",
              "    .dataframe tbody tr th:only-of-type {\n",
              "        vertical-align: middle;\n",
              "    }\n",
              "\n",
              "    .dataframe tbody tr th {\n",
              "        vertical-align: top;\n",
              "    }\n",
              "\n",
              "    .dataframe thead th {\n",
              "        text-align: right;\n",
              "    }\n",
              "</style>\n",
              "<table border=\"1\" class=\"dataframe\">\n",
              "  <thead>\n",
              "    <tr style=\"text-align: right;\">\n",
              "      <th></th>\n",
              "      <th>Original Filename</th>\n",
              "      <th>Segmented Filename</th>\n",
              "      <th>X</th>\n",
              "      <th>Y</th>\n",
              "      <th>Width</th>\n",
              "      <th>Height</th>\n",
              "      <th>Key</th>\n",
              "    </tr>\n",
              "  </thead>\n",
              "  <tbody>\n",
              "    <tr>\n",
              "      <th>256</th>\n",
              "      <td>/content/drive/MyDrive/Mineral Sample/CPX ENHA...</td>\n",
              "      <td>/content/drive/MyDrive/Mineral Sample/CPX seg/...</td>\n",
              "      <td>1396</td>\n",
              "      <td>222</td>\n",
              "      <td>133</td>\n",
              "      <td>67</td>\n",
              "      <td>02NE05A - Modal analysis #1</td>\n",
              "    </tr>\n",
              "    <tr>\n",
              "      <th>259</th>\n",
              "      <td>/content/drive/MyDrive/Mineral Sample/CPX ENHA...</td>\n",
              "      <td>/content/drive/MyDrive/Mineral Sample/CPX seg/...</td>\n",
              "      <td>3213</td>\n",
              "      <td>72</td>\n",
              "      <td>83</td>\n",
              "      <td>86</td>\n",
              "      <td>02NE05A - Modal analysis #1</td>\n",
              "    </tr>\n",
              "    <tr>\n",
              "      <th>257</th>\n",
              "      <td>/content/drive/MyDrive/Mineral Sample/CPX ENHA...</td>\n",
              "      <td>/content/drive/MyDrive/Mineral Sample/CPX seg/...</td>\n",
              "      <td>3282</td>\n",
              "      <td>170</td>\n",
              "      <td>286</td>\n",
              "      <td>173</td>\n",
              "      <td>02NE05A - Modal analysis #1</td>\n",
              "    </tr>\n",
              "    <tr>\n",
              "      <th>255</th>\n",
              "      <td>/content/drive/MyDrive/Mineral Sample/CPX ENHA...</td>\n",
              "      <td>/content/drive/MyDrive/Mineral Sample/CPX seg/...</td>\n",
              "      <td>1555</td>\n",
              "      <td>237</td>\n",
              "      <td>114</td>\n",
              "      <td>51</td>\n",
              "      <td>02NE05A - Modal analysis #1</td>\n",
              "    </tr>\n",
              "    <tr>\n",
              "      <th>254</th>\n",
              "      <td>/content/drive/MyDrive/Mineral Sample/CPX ENHA...</td>\n",
              "      <td>/content/drive/MyDrive/Mineral Sample/CPX seg/...</td>\n",
              "      <td>1291</td>\n",
              "      <td>293</td>\n",
              "      <td>282</td>\n",
              "      <td>384</td>\n",
              "      <td>02NE05A - Modal analysis #1</td>\n",
              "    </tr>\n",
              "  </tbody>\n",
              "</table>\n",
              "</div>"
            ],
            "text/plain": [
              "                                     Original Filename  \\\n",
              "256  /content/drive/MyDrive/Mineral Sample/CPX ENHA...   \n",
              "259  /content/drive/MyDrive/Mineral Sample/CPX ENHA...   \n",
              "257  /content/drive/MyDrive/Mineral Sample/CPX ENHA...   \n",
              "255  /content/drive/MyDrive/Mineral Sample/CPX ENHA...   \n",
              "254  /content/drive/MyDrive/Mineral Sample/CPX ENHA...   \n",
              "\n",
              "                                    Segmented Filename     X    Y  Width  \\\n",
              "256  /content/drive/MyDrive/Mineral Sample/CPX seg/...  1396  222    133   \n",
              "259  /content/drive/MyDrive/Mineral Sample/CPX seg/...  3213   72     83   \n",
              "257  /content/drive/MyDrive/Mineral Sample/CPX seg/...  3282  170    286   \n",
              "255  /content/drive/MyDrive/Mineral Sample/CPX seg/...  1555  237    114   \n",
              "254  /content/drive/MyDrive/Mineral Sample/CPX seg/...  1291  293    282   \n",
              "\n",
              "     Height                          Key  \n",
              "256      67  02NE05A - Modal analysis #1  \n",
              "259      86  02NE05A - Modal analysis #1  \n",
              "257     173  02NE05A - Modal analysis #1  \n",
              "255      51  02NE05A - Modal analysis #1  \n",
              "254     384  02NE05A - Modal analysis #1  "
            ]
          },
          "execution_count": 3,
          "metadata": {},
          "output_type": "execute_result"
        }
      ],
      "source": [
        "import pandas as pd\n",
        "import os\n",
        "csv_file = '/Mineral/segmentation_record.csv'\n",
        "segmentation_record = pd.read_csv(csv_file)\n",
        "\n",
        "segmentation_record_sorted = segmentation_record.sort_values(by=['Original Filename'])\n",
        "\n",
        "segmentation_record_sorted['Key'] = segmentation_record_sorted['Original Filename'].apply(lambda x: os.path.basename(x).split('_')[0])\n",
        "\n",
        "segmentation_record_sorted.head()\n"
      ]
    },
    {
      "cell_type": "code",
      "execution_count": null,
      "metadata": {
        "colab": {
          "base_uri": "https://localhost:8080/"
        },
        "collapsed": true,
        "id": "EXWADsNZNnD_",
        "outputId": "5e4cefce-fb94-45eb-f724-a244b41b948b"
      },
      "outputs": [],
      "source": [
        "import cv2\n",
        "import numpy as np\n",
        "\n",
        "save_dir = '/Mineral/BSE' # replace the document here to segment different SEM maps\n",
        "os.makedirs(save_dir, exist_ok=True)\n",
        "\n",
        "for index, row in segmentation_record_sorted.iterrows():\n",
        "    key = row['Key']\n",
        "    matches = [f for f, p_key in zip(phase_map_files, phase_map_keys) if key == p_key]\n",
        "\n",
        "    if matches:\n",
        "        phase_map_file = matches[0]\n",
        "        img_path = os.path.join(new_images_dir, phase_map_file)\n",
        "        img = cv2.imread(img_path)\n",
        "\n",
        "        x, y, w, h = row['X'], row['Y'], row['Width'], row['Height']\n",
        "        segmented_img = img[y:y+h, x:x+w]\n",
        "\n",
        "        save_path = os.path.join(save_dir, os.path.basename(row['Segmented Filename']))\n",
        "        cv2.imwrite(save_path, segmented_img)\n",
        "\n",
        "        print(f\"Saved segmented image to {save_path}\")\n"
      ]
    }
  ],
  "metadata": {
    "colab": {
      "provenance": []
    },
    "kernelspec": {
      "display_name": "Python 3",
      "name": "python3"
    },
    "language_info": {
      "name": "python"
    }
  },
  "nbformat": 4,
  "nbformat_minor": 0
}
